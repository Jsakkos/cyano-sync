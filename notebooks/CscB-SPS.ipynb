{
 "cells": [
  {
   "cell_type": "code",
   "execution_count": 1,
   "metadata": {},
   "outputs": [],
   "source": [
    "import pandas as pd\n",
    "from matplotlib import pyplot as plt\n",
    "import seaborn as sns\n",
    "import matplotlib\n",
    "import scipy.optimize as opt\n",
    "import matplotlib.ticker as ticker\n",
    "import matplotlib.gridspec as gridspec\n",
    "import matplotlib.image as mpimg\n",
    "from matplotlib.colors import ListedColormap\n",
    "import matplotlib as mpl\n",
    "import numpy as np\n",
    "from pathlib import Path"
   ]
  },
  {
   "cell_type": "code",
   "execution_count": 2,
   "metadata": {},
   "outputs": [],
   "source": [
    "df = pd.read_excel(r'../data/sucrose/CscB-SPS activation.xlsx')"
   ]
  },
  {
   "cell_type": "code",
   "execution_count": 3,
   "metadata": {},
   "outputs": [
    {
     "data": {
      "text/html": [
       "<div>\n",
       "<style scoped>\n",
       "    .dataframe tbody tr th:only-of-type {\n",
       "        vertical-align: middle;\n",
       "    }\n",
       "\n",
       "    .dataframe tbody tr th {\n",
       "        vertical-align: top;\n",
       "    }\n",
       "\n",
       "    .dataframe thead th {\n",
       "        text-align: right;\n",
       "    }\n",
       "</style>\n",
       "<table border=\"1\" class=\"dataframe\">\n",
       "  <thead>\n",
       "    <tr style=\"text-align: right;\">\n",
       "      <th></th>\n",
       "      <th>Time</th>\n",
       "      <th>AHL</th>\n",
       "      <th>Sucrose</th>\n",
       "      <th>Family</th>\n",
       "      <th>IPTG</th>\n",
       "    </tr>\n",
       "  </thead>\n",
       "  <tbody>\n",
       "    <tr>\n",
       "      <th>0</th>\n",
       "      <td>24</td>\n",
       "      <td>0.000000e+00</td>\n",
       "      <td>0.007015</td>\n",
       "      <td>LuxR</td>\n",
       "      <td>500</td>\n",
       "    </tr>\n",
       "    <tr>\n",
       "      <th>1</th>\n",
       "      <td>24</td>\n",
       "      <td>0.000000e+00</td>\n",
       "      <td>0.007868</td>\n",
       "      <td>LuxR</td>\n",
       "      <td>500</td>\n",
       "    </tr>\n",
       "    <tr>\n",
       "      <th>2</th>\n",
       "      <td>24</td>\n",
       "      <td>0.000000e+00</td>\n",
       "      <td>0.009100</td>\n",
       "      <td>LuxR</td>\n",
       "      <td>500</td>\n",
       "    </tr>\n",
       "    <tr>\n",
       "      <th>3</th>\n",
       "      <td>24</td>\n",
       "      <td>1.000000e-08</td>\n",
       "      <td>0.011470</td>\n",
       "      <td>LuxR</td>\n",
       "      <td>500</td>\n",
       "    </tr>\n",
       "    <tr>\n",
       "      <th>4</th>\n",
       "      <td>24</td>\n",
       "      <td>1.000000e-08</td>\n",
       "      <td>0.012134</td>\n",
       "      <td>LuxR</td>\n",
       "      <td>500</td>\n",
       "    </tr>\n",
       "  </tbody>\n",
       "</table>\n",
       "</div>"
      ],
      "text/plain": [
       "   Time           AHL   Sucrose Family  IPTG\n",
       "0    24  0.000000e+00  0.007015   LuxR   500\n",
       "1    24  0.000000e+00  0.007868   LuxR   500\n",
       "2    24  0.000000e+00  0.009100   LuxR   500\n",
       "3    24  1.000000e-08  0.011470   LuxR   500\n",
       "4    24  1.000000e-08  0.012134   LuxR   500"
      ]
     },
     "execution_count": 3,
     "metadata": {},
     "output_type": "execute_result"
    }
   ],
   "source": [
    "df.head()"
   ]
  },
  {
   "cell_type": "code",
   "execution_count": 4,
   "metadata": {},
   "outputs": [
    {
     "data": {
      "text/html": [
       "<div>\n",
       "<style scoped>\n",
       "    .dataframe tbody tr th:only-of-type {\n",
       "        vertical-align: middle;\n",
       "    }\n",
       "\n",
       "    .dataframe tbody tr th {\n",
       "        vertical-align: top;\n",
       "    }\n",
       "\n",
       "    .dataframe thead th {\n",
       "        text-align: right;\n",
       "    }\n",
       "</style>\n",
       "<table border=\"1\" class=\"dataframe\">\n",
       "  <thead>\n",
       "    <tr style=\"text-align: right;\">\n",
       "      <th></th>\n",
       "      <th>Time</th>\n",
       "      <th>AHL</th>\n",
       "      <th>Sucrose</th>\n",
       "      <th>Family</th>\n",
       "      <th>IPTG</th>\n",
       "    </tr>\n",
       "  </thead>\n",
       "  <tbody>\n",
       "    <tr>\n",
       "      <th>0</th>\n",
       "      <td>24</td>\n",
       "      <td>0.000000e+00</td>\n",
       "      <td>7.015</td>\n",
       "      <td>LuxR</td>\n",
       "      <td>500</td>\n",
       "    </tr>\n",
       "    <tr>\n",
       "      <th>1</th>\n",
       "      <td>24</td>\n",
       "      <td>0.000000e+00</td>\n",
       "      <td>7.868</td>\n",
       "      <td>LuxR</td>\n",
       "      <td>500</td>\n",
       "    </tr>\n",
       "    <tr>\n",
       "      <th>2</th>\n",
       "      <td>24</td>\n",
       "      <td>0.000000e+00</td>\n",
       "      <td>9.100</td>\n",
       "      <td>LuxR</td>\n",
       "      <td>500</td>\n",
       "    </tr>\n",
       "    <tr>\n",
       "      <th>3</th>\n",
       "      <td>24</td>\n",
       "      <td>1.000000e-08</td>\n",
       "      <td>11.470</td>\n",
       "      <td>LuxR</td>\n",
       "      <td>500</td>\n",
       "    </tr>\n",
       "    <tr>\n",
       "      <th>4</th>\n",
       "      <td>24</td>\n",
       "      <td>1.000000e-08</td>\n",
       "      <td>12.134</td>\n",
       "      <td>LuxR</td>\n",
       "      <td>500</td>\n",
       "    </tr>\n",
       "  </tbody>\n",
       "</table>\n",
       "</div>"
      ],
      "text/plain": [
       "   Time           AHL  Sucrose Family  IPTG\n",
       "0    24  0.000000e+00    7.015   LuxR   500\n",
       "1    24  0.000000e+00    7.868   LuxR   500\n",
       "2    24  0.000000e+00    9.100   LuxR   500\n",
       "3    24  1.000000e-08   11.470   LuxR   500\n",
       "4    24  1.000000e-08   12.134   LuxR   500"
      ]
     },
     "execution_count": 4,
     "metadata": {},
     "output_type": "execute_result"
    }
   ],
   "source": [
    "df.Sucrose=df.Sucrose*1e3\n",
    "df.head()"
   ]
  },
  {
   "cell_type": "code",
   "execution_count": 5,
   "metadata": {},
   "outputs": [
    {
     "data": {
      "image/png": "[encoded data removed]",
      "text/plain": [
       "<Figure size 432x288 with 2 Axes>"
      ]
     },
     "metadata": {
      "needs_background": "light"
     },
     "output_type": "display_data"
    }
   ],
   "source": [
    "f, axes = plt.subplots(ncols=2)\n",
    "for ax,family in zip(axes.ravel(),['LuxR','LasR']):\n",
    "    sns.barplot(x='Time',y='Sucrose',hue='AHL',data=df[df.Family==family],ci='sd',ax=ax)"
   ]
  },
  {
   "cell_type": "code",
   "execution_count": 6,
   "metadata": {},
   "outputs": [
    {
     "data": {
      "image/png": "[encoded data removed]",
      "text/plain": [
       "<Figure size 432x288 with 2 Axes>"
      ]
     },
     "metadata": {
      "needs_background": "light"
     },
     "output_type": "display_data"
    }
   ],
   "source": [
    "f, axes = plt.subplots(ncols=2)\n",
    "for ax,family in zip(axes.ravel(),['LuxR','LasR']):\n",
    "    sns.barplot(x='AHL',y='Sucrose',hue='Time',data=df[df.Family==family],ci='sd',ax=ax)"
   ]
  },
  {
   "cell_type": "code",
   "execution_count": 7,
   "metadata": {},
   "outputs": [],
   "source": [
    "def colorFader(c1,c2,n): #fade (linear interpolate) from color c1 (at mix=0) to c2 (mix=1)\n",
    "    mix = np.linspace(0,1,n+1)\n",
    "    c1=np.array(mpl.colors.to_rgb(c1))\n",
    "    c2=np.array(mpl.colors.to_rgb(c2))\n",
    "    cols = list()\n",
    "    for i in range(n):\n",
    "        cols.append(mpl.colors.to_hex((1-mix[i])*c1 + mix[i]*c2))\n",
    "    return cols\n",
    "\n",
    "def AHL_cmap(Family,n,r=False):\n",
    "    if Family == 'LuxR':\n",
    "        c2='#ffffff' #white\n",
    "        c1='#003f5c' #blue\n",
    "        if not r:\n",
    "            Lux_rgbs = colorFader(c1,c2,n)\n",
    "        else:\n",
    "            Lux_rgbs = colorFader(c2,c1,n)\n",
    "        return matplotlib.colors.ListedColormap(Lux_rgbs, name='LuxR')\n",
    "    elif Family == 'LasR':\n",
    "        c2='#ffffff' #white\n",
    "        c1='#dd1c77' #pink #\n",
    "        if not r:\n",
    "            Las_rgbs = colorFader(c1,c2,n)\n",
    "        else:\n",
    "            Las_rgbs = colorFader(c2,c1,n)\n",
    "        return matplotlib.colors.ListedColormap(Las_rgbs, name='LasR')\n",
    "    elif Family == 'TraR':\n",
    "        c2='#ffffff' #white\n",
    "        c1='#644895' #purple #\n",
    "        if not r:\n",
    "            Tra_rgbs = colorFader(c1,c2,n)\n",
    "        else:\n",
    "            Tra_rgbs = colorFader(c2,c1,n)\n",
    "        return matplotlib.colors.ListedColormap(Tra_rgbs, name='TraR')\n",
    "def AHL_cols(Family,n):\n",
    "    if Family == 'LuxR':\n",
    "        c2='#ffffff' #white\n",
    "        c1='#003f5c' #blue\n",
    "        return colorFader(c1,c2,n)\n",
    "    elif Family == 'LasR':\n",
    "        c2='#ffffff' #white\n",
    "        c1='#dd1c77' #pink #\n",
    "        return colorFader(c1,c2,n)\n",
    "\n",
    "    elif Family == 'TraR':\n",
    "        c2='#ffffff' #white\n",
    "        c1='#644895' #purple #\n",
    "        return colorFader(c1,c2,n)"
   ]
  },
  {
   "cell_type": "code",
   "execution_count": 8,
   "metadata": {},
   "outputs": [],
   "source": [
    "from matplotlib import transforms\n",
    "def label_panel(ax, letter, *,\n",
    "                offset_left=0.5, offset_up=0.2, prefix='', postfix='', **font_kwds):\n",
    "    kwds = dict(fontsize=18)\n",
    "    kwds.update(font_kwds)\n",
    "    # this mad looking bit of code says that we should put the code offset a certain distance in\n",
    "    # inches (using the fig.dpi_scale_trans transformation) from the top left of the frame\n",
    "    # (which is (0, 1) in ax.transAxes transformation space)\n",
    "    fig = ax.figure\n",
    "    trans = ax.transAxes + transforms.ScaledTranslation(-offset_left, offset_up, fig.dpi_scale_trans)\n",
    "    ax.text(0, 1, prefix+letter+postfix, transform=trans, **kwds)\n",
    "\n",
    "def label_panels(axes, letters=None, **kwds):\n",
    "    if letters is None:\n",
    "        letters = axes.keys()\n",
    "    for letter in letters:\n",
    "        ax = axes[letter]\n",
    "        label_panel(ax, letter, **kwds)"
   ]
  },
  {
   "cell_type": "code",
   "execution_count": 9,
   "metadata": {},
   "outputs": [
    {
     "data": {
      "image/png": "[encoded data removed]",
      "text/plain": [
       "<Figure size 432x360 with 1 Axes>"
      ]
     },
     "metadata": {},
     "output_type": "display_data"
    }
   ],
   "source": [
    "colors = ['#003f5c','#644895','#dd1c77']\n",
    "sns.set_context('talk')\n",
    "sns.set_style('white')\n",
    "families = ['LuxR']\n",
    "labels = {'LuxR' : ['Control','LuxI'],'LasR' : ['Control','LasI']}\n",
    "order = {'LuxR' : ['W','LuxI'],'LasR' : ['W','LasI']}\n",
    "locations=['upper left','upper left','upper right']\n",
    "f, ax = plt.subplots(figsize=(6,5))\n",
    "\n",
    "sns.barplot(x='AHL',y='Sucrose',hue='Time',ci='sd',data=df[df.Family=='LuxR'],ax=ax,palette=AHL_cols('LuxR',2),edgecolor='k',capsize=.2,errcolor='k',errwidth=2)\n",
    "#ax.set_title(family,fontsize=18)\n",
    "#ax.legend_.remove()\n",
    "handles, l = ax.get_legend_handles_labels()\n",
    "ax.legend(handles,[int(float(x)) for x in l],loc='upper left',frameon=False,title='Hours post induction')\n",
    "ax.set_xticklabels(['$0$','$10^{-8}$','$10^{-6}$','$10^{-4}$'])\n",
    "ax.set_xlabel(r'3OC6-HSL (M)')\n",
    "ax.set_ylabel('Sucrose ($\\mu$M)')\n",
    "sns.despine()\n",
    "f.tight_layout()\n",
    "f.savefig(r'../Figures/cscb-sps.pdf',bbox_inches='tight')"
   ]
  },
  {
   "cell_type": "code",
   "execution_count": 10,
   "metadata": {},
   "outputs": [
    {
     "data": {
      "text/plain": [
       "[24, 48]"
      ]
     },
     "execution_count": 10,
     "metadata": {},
     "output_type": "execute_result"
    }
   ],
   "source": [
    "[int(float(x)) for x in l]"
   ]
  }
 ],
 "metadata": {
  "kernelspec": {
   "display_name": "Python 3.9.7 ('base')",
   "language": "python",
   "name": "python3"
  },
  "language_info": {
   "codemirror_mode": {
    "name": "ipython",
    "version": 3
   },
   "file_extension": ".py",
   "mimetype": "text/x-python",
   "name": "python",
   "nbconvert_exporter": "python",
   "pygments_lexer": "ipython3",
   "version": "3.9.12"
  },
  "vscode": {
   "interpreter": {
    "hash": "3c0c275f5db53f68af3968e1a4c3b5884ecf50b36cda32749e0d0d3c1d641154"
   }
  }
 },
 "nbformat": 4,
 "nbformat_minor": 4
}
