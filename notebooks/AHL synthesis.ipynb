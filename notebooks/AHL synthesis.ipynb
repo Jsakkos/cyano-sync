{
 "cells": [
  {
   "cell_type": "code",
   "execution_count": 1,
   "metadata": {},
   "outputs": [],
   "source": [
    "import pandas as pd\n",
    "from matplotlib import pyplot as plt\n",
    "import seaborn as sns\n",
    "import matplotlib\n",
    "from scipy.stats.mstats import gmean\n",
    "import scipy.optimize as opt\n",
    "import matplotlib.ticker as ticker\n",
    "import matplotlib.gridspec as gridspec\n",
    "import matplotlib.image as mpimg\n",
    "from matplotlib.colors import ListedColormap\n",
    "import matplotlib as mpl\n",
    "import numpy as np\n",
    "from pathlib import Path\n",
    "from skimage import io"
   ]
  },
  {
   "cell_type": "code",
   "execution_count": 2,
   "metadata": {},
   "outputs": [],
   "source": [
    "df=pd.read_excel('D:/qs-analysis/data/lc-ms/ahl-accumulation.xls',sheet_name='data')"
   ]
  },
  {
   "cell_type": "code",
   "execution_count": 3,
   "metadata": {},
   "outputs": [],
   "source": [
    "def colorFader(c1,c2,n): #fade (linear interpolate) from color c1 (at mix=0) to c2 (mix=1)\n",
    "    mix = np.linspace(0,1,n+1)\n",
    "    c1=np.array(mpl.colors.to_rgb(c1))\n",
    "    c2=np.array(mpl.colors.to_rgb(c2))\n",
    "    cols = list()\n",
    "    for i in range(n):\n",
    "        cols.append(mpl.colors.to_hex((1-mix[i])*c1 + mix[i]*c2))\n",
    "    return cols\n",
    "\n",
    "def AHL_cmap(Family,n,r=False):\n",
    "    if Family == 'LuxR':\n",
    "        c2='#ffffff' #white\n",
    "        c1='#003f5c' #blue\n",
    "        if not r:\n",
    "            Lux_rgbs = colorFader(c1,c2,n)\n",
    "        else:\n",
    "            Lux_rgbs = colorFader(c2,c1,n)\n",
    "        return matplotlib.colors.ListedColormap(Lux_rgbs, name='LuxR')\n",
    "    elif Family == 'LasR':\n",
    "        c2='#ffffff' #white\n",
    "        c1='#dd1c77' #pink #\n",
    "        if not r:\n",
    "            Las_rgbs = colorFader(c1,c2,n)\n",
    "        else:\n",
    "            Las_rgbs = colorFader(c2,c1,n)\n",
    "        return matplotlib.colors.ListedColormap(Las_rgbs, name='LasR')\n",
    "    elif Family == 'TraR':\n",
    "        c2='#ffffff' #white\n",
    "        c1='#644895' #purple #\n",
    "        if not r:\n",
    "            Tra_rgbs = colorFader(c1,c2,n)\n",
    "        else:\n",
    "            Tra_rgbs = colorFader(c2,c1,n)\n",
    "        return matplotlib.colors.ListedColormap(Tra_rgbs, name='TraR')\n",
    "def AHL_cols(Family,n):\n",
    "    if Family == 'LuxR':\n",
    "        c2='#ffffff' #white\n",
    "        c1='#003f5c' #blue\n",
    "        return colorFader(c1,c2,n)\n",
    "    elif Family == 'LasR':\n",
    "        c2='#ffffff' #white\n",
    "        c1='#dd1c77' #pink #\n",
    "        return colorFader(c1,c2,n)\n",
    "\n",
    "    elif Family == 'TraR':\n",
    "        c2='#ffffff' #white\n",
    "        c1='#644895' #purple #\n",
    "        return colorFader(c1,c2,n)"
   ]
  },
  {
   "cell_type": "code",
   "execution_count": 4,
   "metadata": {},
   "outputs": [],
   "source": [
    "from matplotlib import transforms\n",
    "def label_panel(ax, letter, *,\n",
    "                offset_left=0.5, offset_up=0.2, prefix='', postfix='', **font_kwds):\n",
    "    kwds = dict(fontsize=18)\n",
    "    kwds.update(font_kwds)\n",
    "    # this mad looking bit of code says that we should put the code offset a certain distance in\n",
    "    # inches (using the fig.dpi_scale_trans transformation) from the top left of the frame\n",
    "    # (which is (0, 1) in ax.transAxes transformation space)\n",
    "    fig = ax.figure\n",
    "    trans = ax.transAxes + transforms.ScaledTranslation(-offset_left, offset_up, fig.dpi_scale_trans)\n",
    "    ax.text(0, 1, prefix+letter+postfix, transform=trans, **kwds)\n",
    "\n",
    "def label_panels(axes, letters=None, **kwds):\n",
    "    if letters is None:\n",
    "        letters = axes.keys()\n",
    "    for letter in letters:\n",
    "        ax = axes[letter]\n",
    "        label_panel(ax, letter, **kwds)"
   ]
  },
  {
   "cell_type": "code",
   "execution_count": 5,
   "metadata": {},
   "outputs": [],
   "source": [
    "\n",
    "Lux_cmap = AHL_cmap('LuxR',100)\n",
    "Las_cmap = AHL_cmap('LasR',100)\n",
    "Tra_cmap = AHL_cmap('TraR',100)\n",
    "Lux_cmap_r = AHL_cmap('LuxR',100,r=True)\n",
    "Las_cmap_r = AHL_cmap('LasR',100,r=True)\n",
    "Tra_cmap_r = AHL_cmap('TraR',100,r=True)"
   ]
  },
  {
   "cell_type": "code",
   "execution_count": 6,
   "metadata": {},
   "outputs": [
    {
     "data": {
      "text/plain": [
       "'#557f92'"
      ]
     },
     "execution_count": 6,
     "metadata": {},
     "output_type": "execute_result"
    }
   ],
   "source": [
    "AHL_cols(\"LuxR\",3)[1]"
   ]
  },
  {
   "cell_type": "code",
   "execution_count": 7,
   "metadata": {},
   "outputs": [
    {
     "data": {
      "image/png": "[encoded data removed]",
      "text/plain": [
       "<Figure size 720x216 with 4 Axes>"
      ]
     },
     "metadata": {},
     "output_type": "display_data"
    }
   ],
   "source": [
    "sns.set_context('paper')\n",
    "sns.set_style('ticks')\n",
    "f, axes = plt.subplots(ncols=4,figsize=(10,3))\n",
    "for ax,family,color,c in zip(axes.ravel()[:3],['LuxI','TraI','LasI'],['#003f5c','#644895','#dd1c77'],[AHL_cols(\"LuxR\",3)[2],AHL_cols(\"TraR\",3)[2],AHL_cols(\"LasR\",3)[2]]):\n",
    "    temp = df.loc[(df.AHL==family) & (df.Time <20)]\n",
    "    ax.set_title(family,fontsize=18)\n",
    "    ax.errorbar(temp.Time,temp.Concentration,yerr=temp.STD,color=color,ls='',marker='o',capsize=5,capthick=1,label=family)\n",
    "    ax.hlines(temp.Concentration.max(),10,18,ls='--',color=c)\n",
    "    ax.set_xlabel('Time (hours post induction)')\n",
    "    #ax.legend(frameon=False)\n",
    "    ax.set_ylim(250,375)\n",
    "axes[0].set_ylabel('AHL Concentration (nM)')\n",
    "\n",
    "for family,color in zip(['LuxI','TraI','LasI'],['#003f5c','#644895','#dd1c77']):\n",
    "    \n",
    "    temp = df.loc[(df.AHL==family) & (df.Time <20)]\n",
    "    idx = temp.Concentration.idxmax(axis=0, skipna = True)\n",
    "    productivity=temp.Concentration[idx]/temp.Time[idx]/temp.Biomass[idx]*50e-3\n",
    "    err = productivity*temp.STD[idx]/temp.Concentration[idx]\n",
    "    axes[3].bar(x=family,height=productivity,yerr=err,capsize=5,color=color,lw=1,edgecolor='k',error_kw=dict(ew=1,capthick=1))\n",
    "axes[3].set_ylabel(r'Productivity ($\\frac{nmoles}{g-dw \\cdot hr}$)')\n",
    "label_panel(axes[0],'A')\n",
    "label_panel(axes[3],'B')\n",
    "f.tight_layout()\n",
    "sns.despine()\n",
    "f.savefig('../Figures/AHL synthesis.png',dpi=600,bbox_inches='tight')"
   ]
  },
  {
   "cell_type": "code",
   "execution_count": 8,
   "metadata": {},
   "outputs": [
    {
     "name": "stdout",
     "output_type": "stream",
     "text": [
      "11.050605039671419\n",
      "10.132618618909033\n",
      "9.183015298737178\n"
     ]
    },
    {
     "data": {
      "image/png": "[encoded data removed]",
      "text/plain": [
       "<Figure size 288x216 with 1 Axes>"
      ]
     },
     "metadata": {},
     "output_type": "display_data"
    }
   ],
   "source": [
    "sns.set_context('talk')\n",
    "sns.set_style('white')\n",
    "f, ax=plt.subplots(figsize=(4,3))\n",
    "for family,color in zip(['LuxI','TraI','LasI'],['#003f5c','#644895','#dd1c77']):\n",
    "    temp = df.loc[(df.AHL==family) & (df.Time <20)]\n",
    "    idx = temp.Concentration.idxmax(axis=0, skipna = True)\n",
    "    productivity=temp.Concentration[idx]/temp.Time[idx]/temp.Biomass[idx]*50e-3\n",
    "    err = productivity*temp.STD[idx]/temp.Concentration[idx]\n",
    "    ax.bar(x=family,height=productivity,yerr=err,capsize=5,color=color,lw=2,edgecolor='k',error_kw=dict(ew=2,capthick=2))\n",
    "    print(productivity)\n",
    "ax.set_ylabel(r'Productivity ($\\frac{nmol}{g-dw \\cdot hr}$)')\n",
    "sns.despine()"
   ]
  }
 ],
 "metadata": {
  "interpreter": {
   "hash": "c74fba7c15ebc86642b8485d63c22a65a770b3dce4b11deeedd1188b19a1d92b"
  },
  "kernelspec": {
   "display_name": "Python 3.8.10 ('base')",
   "language": "python",
   "name": "python3"
  },
  "language_info": {
   "codemirror_mode": {
    "name": "ipython",
    "version": 3
   },
   "file_extension": ".py",
   "mimetype": "text/x-python",
   "name": "python",
   "nbconvert_exporter": "python",
   "pygments_lexer": "ipython3",
   "version": "3.8.10"
  }
 },
 "nbformat": 4,
 "nbformat_minor": 4
}
