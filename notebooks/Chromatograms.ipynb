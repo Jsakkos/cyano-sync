{
 "cells": [
  {
   "cell_type": "code",
   "execution_count": 1,
   "metadata": {},
   "outputs": [],
   "source": [
    "import pandas as pd\n",
    "from matplotlib import pyplot as plt\n",
    "import seaborn as sns\n",
    "import matplotlib\n",
    "from scipy.stats.mstats import gmean\n",
    "import scipy.optimize as opt\n",
    "import matplotlib.ticker as ticker\n",
    "import matplotlib.gridspec as gridspec\n",
    "import matplotlib.image as mpimg\n",
    "from matplotlib.colors import ListedColormap\n",
    "import matplotlib as mpl\n",
    "import numpy as np\n",
    "from pathlib import Path\n",
    "from skimage import io"
   ]
  },
  {
   "cell_type": "code",
   "execution_count": 2,
   "metadata": {},
   "outputs": [],
   "source": [
    "df=pd.read_excel('D:/qs-analysis/data/lc-ms/chromatograms.xlsx',sheet_name='data')"
   ]
  },
  {
   "cell_type": "code",
   "execution_count": 3,
   "metadata": {},
   "outputs": [],
   "source": [
    "def colorFader(c1,c2,n): #fade (linear interpolate) from color c1 (at mix=0) to c2 (mix=1)\n",
    "    mix = np.linspace(0,1,n+1)\n",
    "    c1=np.array(mpl.colors.to_rgb(c1))\n",
    "    c2=np.array(mpl.colors.to_rgb(c2))\n",
    "    cols = list()\n",
    "    for i in range(n):\n",
    "        cols.append(mpl.colors.to_hex((1-mix[i])*c1 + mix[i]*c2))\n",
    "    return cols\n",
    "\n",
    "def AHL_cmap(Family,n,r=False):\n",
    "    if Family == 'LuxR':\n",
    "        c2='#ffffff' #white\n",
    "        c1='#003f5c' #blue\n",
    "        if not r:\n",
    "            Lux_rgbs = colorFader(c1,c2,n)\n",
    "        else:\n",
    "            Lux_rgbs = colorFader(c2,c1,n)\n",
    "        return matplotlib.colors.ListedColormap(Lux_rgbs, name='LuxR')\n",
    "    elif Family == 'LasR':\n",
    "        c2='#ffffff' #white\n",
    "        c1='#dd1c77' #pink #\n",
    "        if not r:\n",
    "            Las_rgbs = colorFader(c1,c2,n)\n",
    "        else:\n",
    "            Las_rgbs = colorFader(c2,c1,n)\n",
    "        return matplotlib.colors.ListedColormap(Las_rgbs, name='LasR')\n",
    "    elif Family == 'TraR':\n",
    "        c2='#ffffff' #white\n",
    "        c1='#644895' #purple #\n",
    "        if not r:\n",
    "            Tra_rgbs = colorFader(c1,c2,n)\n",
    "        else:\n",
    "            Tra_rgbs = colorFader(c2,c1,n)\n",
    "        return matplotlib.colors.ListedColormap(Tra_rgbs, name='TraR')\n",
    "def AHL_cols(Family,n):\n",
    "    if Family == 'LuxR':\n",
    "        c2='#ffffff' #white\n",
    "        c1='#003f5c' #blue\n",
    "        return colorFader(c1,c2,n)\n",
    "    elif Family == 'LasR':\n",
    "        c2='#ffffff' #white\n",
    "        c1='#dd1c77' #pink #\n",
    "        return colorFader(c1,c2,n)\n",
    "\n",
    "    elif Family == 'TraR':\n",
    "        c2='#ffffff' #white\n",
    "        c1='#644895' #purple #\n",
    "        return colorFader(c1,c2,n)"
   ]
  },
  {
   "cell_type": "code",
   "execution_count": 76,
   "metadata": {},
   "outputs": [],
   "source": [
    "from matplotlib import transforms\n",
    "def label_panel(ax, letter, *,\n",
    "                offset_left=0.3, offset_up=0.2, prefix='', postfix='', **font_kwds):\n",
    "    kwds = dict(fontsize=18)\n",
    "    kwds.update(font_kwds)\n",
    "    # this mad looking bit of code says that we should put the code offset a certain distance in\n",
    "    # inches (using the fig.dpi_scale_trans transformation) from the top left of the frame\n",
    "    # (which is (0, 1) in ax.transAxes transformation space)\n",
    "    fig = ax.figure\n",
    "    trans = ax.transAxes + transforms.ScaledTranslation(-offset_left, offset_up, fig.dpi_scale_trans)\n",
    "    ax.text(0, 1, prefix+letter+postfix, transform=trans, **kwds)\n",
    "\n",
    "def label_panels(axes, letters=None, **kwds):\n",
    "    if letters is None:\n",
    "        letters = axes.keys()\n",
    "    for letter in letters:\n",
    "        ax = axes[letter]\n",
    "        label_panel(ax, letter, **kwds)"
   ]
  },
  {
   "cell_type": "code",
   "execution_count": 77,
   "metadata": {},
   "outputs": [],
   "source": [
    "\n",
    "Lux_cmap = AHL_cmap('LuxR',100)\n",
    "Las_cmap = AHL_cmap('LasR',100)\n",
    "Tra_cmap = AHL_cmap('TraR',100)\n",
    "Lux_cmap_r = AHL_cmap('LuxR',100,r=True)\n",
    "Las_cmap_r = AHL_cmap('LasR',100,r=True)\n",
    "Tra_cmap_r = AHL_cmap('TraR',100,r=True)"
   ]
  },
  {
   "cell_type": "code",
   "execution_count": 78,
   "metadata": {},
   "outputs": [
    {
     "data": {
      "text/plain": [
       "'#557f92'"
      ]
     },
     "execution_count": 78,
     "metadata": {},
     "output_type": "execute_result"
    }
   ],
   "source": [
    "AHL_cols(\"LuxR\",3)[1]"
   ]
  },
  {
   "cell_type": "code",
   "execution_count": 79,
   "metadata": {},
   "outputs": [
    {
     "data": {
      "image/png": "[encoded data removed]",
      "text/plain": [
       "<Figure size 432x288 with 2 Axes>"
      ]
     },
     "metadata": {},
     "output_type": "display_data"
    }
   ],
   "source": [
    "sns.set_context('paper')\n",
    "sns.set_style('ticks')\n",
    "f, axes = plt.subplots(nrows=2,sharex=True,figsize=(6,4))\n",
    "for family,color in zip(['LuxI','TraI','LasI'],['#003f5c','#644895','#dd1c77']):\n",
    "    temp = df.loc[(df.Family==family) & (df.Intensity > 0.1e6)]\n",
    "#sns.lineplot(x='Time',y='Intensity',hue='Family',data=df.loc[df.Standard==True],ax=axes[0])\n",
    "    axes[0].fill_between(temp.loc[temp.Standard==True].Time, 0, temp.loc[temp.Standard==True].Intensity,color=color,label=family)\n",
    "    axes[1].fill_between(temp.loc[temp.Standard==False].Time,0,temp.loc[temp.Standard==False].Intensity,color=color)\n",
    "    #axes[0].scatter(temp.loc[temp.Standard==True].Time,temp.loc[temp.Standard==True].Intensity,color=color,ls='--')\n",
    "    #axes[1].plot(temp.loc[temp.Standard==False].Time,temp.loc[temp.Standard==False].Intensity,color=color)\n",
    "#sns.lineplot(x='Time',y='Intensity',hue='Family',data=df.loc[df.Standard==False],ax=axes[1])\n",
    "sns.despine()\n",
    "axes[1].set_xlabel('Elution time (mins)')\n",
    "f.text(0.05,0.4,'Peak intensity (au)',rotation='vertical',ha='center')\n",
    "axes[0].text(0.07,.9,'Standard', horizontalalignment='center', verticalalignment='center', transform=axes[0].transAxes)\n",
    "axes[1].text(0.07,.9,r'$\\it{E. coli}$', horizontalalignment='center', verticalalignment='center', transform=axes[1].transAxes)\n",
    "for ax in axes.ravel():\n",
    "    ax.set_ylim(bottom=0.1)\n",
    "    ax.set_xlim(2,7)\n",
    "axes[0].legend(frameon=False)\n",
    "label_panel(axes[0],'A')\n",
    "label_panel(axes[1],'B')\n",
    "f.savefig('../figures/chromatograms.pdf',bbox_inches='tight')"
   ]
  }
 ],
 "metadata": {
  "interpreter": {
   "hash": "c74fba7c15ebc86642b8485d63c22a65a770b3dce4b11deeedd1188b19a1d92b"
  },
  "kernelspec": {
   "display_name": "Python 3.8.10 ('base')",
   "language": "python",
   "name": "python3"
  },
  "language_info": {
   "codemirror_mode": {
    "name": "ipython",
    "version": 3
   },
   "file_extension": ".py",
   "mimetype": "text/x-python",
   "name": "python",
   "nbconvert_exporter": "python",
   "pygments_lexer": "ipython3",
   "version": "3.8.10"
  }
 },
 "nbformat": 4,
 "nbformat_minor": 4
}
