{
 "cells": [
  {
   "cell_type": "code",
   "execution_count": 1,
   "metadata": {},
   "outputs": [],
   "source": [
    "#%matplotlib inline\n",
    "#%matplotlib notebook"
   ]
  },
  {
   "cell_type": "code",
   "execution_count": 2,
   "metadata": {},
   "outputs": [
    {
     "ename": "ModuleNotFoundError",
     "evalue": "No module named 'cytoflow'",
     "output_type": "error",
     "traceback": [
      "\u001b[1;31m---------------------------------------------------------------------------\u001b[0m",
      "\u001b[1;31mModuleNotFoundError\u001b[0m                       Traceback (most recent call last)",
      "\u001b[1;32m<ipython-input-2-6008e7eaa9e7>\u001b[0m in \u001b[0;36m<module>\u001b[1;34m\u001b[0m\n\u001b[1;32m----> 1\u001b[1;33m \u001b[1;32mimport\u001b[0m \u001b[0mcytoflow\u001b[0m \u001b[1;32mas\u001b[0m \u001b[0mflow\u001b[0m\u001b[1;33m\u001b[0m\u001b[1;33m\u001b[0m\u001b[0m\n\u001b[0m\u001b[0;32m      2\u001b[0m \u001b[1;32mfrom\u001b[0m \u001b[0mmatplotlib\u001b[0m \u001b[1;32mimport\u001b[0m \u001b[0mpyplot\u001b[0m \u001b[1;32mas\u001b[0m \u001b[0mplt\u001b[0m\u001b[1;33m\u001b[0m\u001b[1;33m\u001b[0m\u001b[0m\n\u001b[0;32m      3\u001b[0m \u001b[1;32mimport\u001b[0m \u001b[0mseaborn\u001b[0m \u001b[1;32mas\u001b[0m \u001b[0msns\u001b[0m\u001b[1;33m\u001b[0m\u001b[1;33m\u001b[0m\u001b[0m\n\u001b[0;32m      4\u001b[0m \u001b[1;32mimport\u001b[0m \u001b[0mpandas\u001b[0m \u001b[1;32mas\u001b[0m \u001b[0mpd\u001b[0m\u001b[1;33m\u001b[0m\u001b[1;33m\u001b[0m\u001b[0m\n\u001b[0;32m      5\u001b[0m \u001b[1;32mimport\u001b[0m \u001b[0mmatplotlib\u001b[0m\u001b[1;33m\u001b[0m\u001b[1;33m\u001b[0m\u001b[0m\n",
      "\u001b[1;31mModuleNotFoundError\u001b[0m: No module named 'cytoflow'"
     ]
    }
   ],
   "source": [
    "import cytoflow as flow\n",
    "from matplotlib import pyplot as plt\n",
    "import seaborn as sns\n",
    "import pandas as pd\n",
    "import matplotlib\n",
    "import scipy.stats as stats\n",
    "import scipy as sp\n",
    "from scipy.stats.mstats import gmean\n",
    "import scipy.optimize as opt\n",
    "import numpy as np\n",
    "from numpy import median\n",
    "matplotlib.rc('figure', dpi = 160)"
   ]
  },
  {
   "cell_type": "markdown",
   "metadata": {},
   "source": [
    "# Import samples and specify experimental condtions"
   ]
  },
  {
   "cell_type": "markdown",
   "metadata": {},
   "source": [
    "sets the conditions of the tube"
   ]
  },
  {
   "cell_type": "code",
   "execution_count": null,
   "metadata": {},
   "outputs": [],
   "source": [
    "inputs = [\n",
    "    [\"20210513_Tube_001_001.fcs\",0,0,'WT'],\n",
    "    [\"20210513_Tube_002_002.fcs\",1e-4,0,'LuxR'],\n",
    "    [\"20210513_Tube_003_003.fcs\",1e-5,0,'LuxR'],\n",
    "    [\"20210513_Tube_004_004.fcs\",1e-6,0,'LuxR'],\n",
    "    [\"20210513_Tube_005_005.fcs\",1e-7,0,'LuxR'],\n",
    "    [\"20210513_Tube_006_006.fcs\",1e-8,0,'LuxR'],\n",
    "    [\"20210513_Tube_007_007.fcs\",1e-9,0,'LuxR'],\n",
    "    [\"20210513_Tube_008_008.fcs\",1e-10,0,'LuxR'],\n",
    "    [\"20210513_Tube_009_009.fcs\",0,0,'LuxR'],\n",
    "    \n",
    "    [\"20210513_Tube_010_010.fcs\",1e-4,0.005,'LuxR'],\n",
    "    [\"20210513_Tube_011_011.fcs\",1e-5,0.005,'LuxR'],\n",
    "    [\"20210513_Tube_012_012.fcs\",1e-6,0.005,'LuxR'],\n",
    "    [\"20210513_Tube_013_013.fcs\",1e-7,0.005,'LuxR'],\n",
    "    [\"20210513_Tube_014_014.fcs\",1e-8,0.005,'LuxR'],\n",
    "    [\"20210513_Tube_015_015.fcs\",1e-9,0.005,'LuxR'],\n",
    "    [\"20210513_Tube_016_016.fcs\",1e-10,0.005,'LuxR'],\n",
    "    [\"20210513_Tube_017_017.fcs\",0,0.005,'LuxR'],\n",
    "    \n",
    "    [\"20210513_Tube_018_018.fcs\",1e-4,0.01,'LuxR'],\n",
    "    [\"20210513_Tube_019_019.fcs\",1e-5,0.01,'LuxR'],\n",
    "    [\"20210513_Tube_020_020.fcs\",1e-6,0.01,'LuxR'],\n",
    "    [\"20210513_Tube_021_021.fcs\",1e-7,0.01,'LuxR'],\n",
    "    [\"20210513_Tube_022_022.fcs\",1e-8,0.01,'LuxR'],\n",
    "    [\"20210513_Tube_023_023.fcs\",1e-9,0.01,'LuxR'],\n",
    "    [\"20210513_Tube_024_024.fcs\",1e-10,0.01,'LuxR'],\n",
    "    [\"20210513_Tube_025_025.fcs\",0,0.01,'LuxR'],\n",
    "    \n",
    "    [\"20210513_Tube_026_026.fcs\",1e-4,0.05,'LuxR'],\n",
    "    [\"20210513_Tube_027_027.fcs\",1e-5,0.05,'LuxR'],\n",
    "    [\"20210513_Tube_028_028.fcs\",1e-6,0.05,'LuxR'],\n",
    "    [\"20210513_Tube_029_029.fcs\",1e-7,0.05,'LuxR'],\n",
    "    [\"20210513_Tube_030_030.fcs\",1e-8,0.05,'LuxR'],\n",
    "    [\"20210513_Tube_031_031.fcs\",1e-9,0.05,'LuxR'],\n",
    "    [\"20210513_Tube_032_032.fcs\",1e-10,0.05,'LuxR'],\n",
    "    [\"20210513_Tube_033_033.fcs\",0,0.05,'LuxR'],\n",
    "    \n",
    "    [\"20210513_Tube_034_034.fcs\",1e-4,0.1,'LuxR'],\n",
    "    [\"20210513_Tube_035_035.fcs\",1e-5,0.1,'LuxR'],\n",
    "    [\"20210513_Tube_036_036.fcs\",1e-6,0.1,'LuxR'],\n",
    "    [\"20210513_Tube_037_037.fcs\",1e-7,0.1,'LuxR'],\n",
    "    [\"20210513_Tube_038_038.fcs\",1e-8,0.1,'LuxR'],\n",
    "    [\"20210513_Tube_039_039.fcs\",1e-9,0.1,'LuxR'],\n",
    "    [\"20210513_Tube_040_040.fcs\",1e-10,0.1,'LuxR'],\n",
    "    [\"20210513_Tube_041_041.fcs\",0,0.1,'LuxR'],\n",
    "    \n",
    "    [\"20210513_Tube_042_042.fcs\",1e-4,0.5,'LuxR'],\n",
    "    [\"20210513_Tube_043_043.fcs\",1e-5,0.5,'LuxR'],\n",
    "    [\"20210513_Tube_044_044.fcs\",1e-6,0.5,'LuxR'],\n",
    "    [\"20210513_Tube_045_045.fcs\",1e-7,0.5,'LuxR'],\n",
    "    [\"20210513_Tube_046_046.fcs\",1e-8,0.5,'LuxR'],\n",
    "    [\"20210513_Tube_047_047.fcs\",1e-9,0.5,'LuxR'],\n",
    "    [\"20210513_Tube_048_048.fcs\",1e-10,0.5,'LuxR'],\n",
    "    [\"20210513_Tube_049_049.fcs\",0,0.5,'LuxR']\n",
    "\n",
    "\n",
    "\n",
    "]\n",
    "\n",
    "       \n",
    "tubes = []\n",
    "for filename, ahl, iptg, family in inputs:\n",
    "    tubes.append(flow.Tube(file = 'data/' + filename, conditions = {'AHL' : ahl, 'IPTG' : iptg, 'Family' : family}))\n",
    "    \n",
    "ex = flow.ImportOp(conditions = {'AHL' : 'float', 'IPTG' : 'float', 'Family' : 'str'},\n",
    "                   tubes = tubes).apply()\n",
    "       \n"
   ]
  },
  {
   "cell_type": "code",
   "execution_count": null,
   "metadata": {},
   "outputs": [],
   "source": [
    "flow.set_default_scale(\"log\")"
   ]
  },
  {
   "cell_type": "markdown",
   "metadata": {},
   "source": [
    "# Plot FITC-A histograms for all IPTG and AHL induction conditions"
   ]
  },
  {
   "cell_type": "code",
   "execution_count": null,
   "metadata": {},
   "outputs": [],
   "source": [
    "\n",
    "flow.HistogramView(channel = \"FITC-A\",\n",
    "                   xfacet = \"AHL\",\n",
    "                  yfacet = 'IPTG').plot(ex)"
   ]
  },
  {
   "cell_type": "code",
   "execution_count": null,
   "metadata": {},
   "outputs": [],
   "source": [
    "flow.DensityView(xchannel = \"FSC-A\", \n",
    "                 ychannel = \"SSC-A\",\n",
    "                 xscale = 'log',\n",
    "                 yscale = 'log').plot(ex, min_quantile = 0.005)"
   ]
  },
  {
   "cell_type": "markdown",
   "metadata": {},
   "source": [
    "# Singlet gating to remove doublets"
   ]
  },
  {
   "cell_type": "code",
   "execution_count": null,
   "metadata": {},
   "outputs": [],
   "source": [
    "\n",
    "#channels = ['FSC-A','FSC-W','FSC-H','SSC-A','SSC-W','SSC-H']\n",
    "#perm = combinations(channels,2)\n",
    "FSC = [('FSC-A','FSC-W'),('FSC-A','FSC-H'),('FSC-W','FSC-H')]\n",
    "\n",
    "#f, axes = plt.subplots(ncols=4,nrows=4)\n",
    "#axs = axes.ravel()\n",
    "for i,(x,y) in enumerate(FSC):  \n",
    "    flow.DensityView(xchannel = x, \n",
    "                ychannel = y,\n",
    "                xscale = 'log',\n",
    "                yscale = 'log').plot(ex, min_quantile = 0.005)\n"
   ]
  },
  {
   "cell_type": "code",
   "execution_count": null,
   "metadata": {},
   "outputs": [],
   "source": [
    "SSC = [('SSC-A','SSC-W'),('SSC-A','SSC-H'),('SSC-W','SSC-H')]\n",
    "for i,(x,y) in enumerate(SSC):  \n",
    "    flow.DensityView(xchannel = x, \n",
    "                ychannel = y,\n",
    "                xscale = 'linear',\n",
    "                yscale = 'linear').plot(ex, min_quantile = 0.005)"
   ]
  },
  {
   "cell_type": "markdown",
   "metadata": {},
   "source": [
    "## Create and store singlet gate"
   ]
  },
  {
   "cell_type": "markdown",
   "metadata": {},
   "source": [
    "saves the single data as ex2"
   ]
  },
  {
   "cell_type": "code",
   "execution_count": null,
   "metadata": {},
   "outputs": [],
   "source": [
    "r = flow.Range2DOp(name = \"Range2D\",\n",
    "                   xchannel = \"SSC-W\",\n",
    "                   xlow = 55000,\n",
    "                   xhigh = 80000,\n",
    "                   ychannel = \"SSC-H\",\n",
    "                   ylow = 100,\n",
    "                   yhigh = 10000)\n",
    "                   \n",
    "rv = r.default_view(xscale ='log',yscale='log')\n",
    "\n",
    "rv.plot(ex)\n",
    "ex2 = r.apply(ex)"
   ]
  },
  {
   "cell_type": "markdown",
   "metadata": {},
   "source": [
    "## Use a gaussian mixture model to further gate the population"
   ]
  },
  {
   "cell_type": "code",
   "execution_count": null,
   "metadata": {},
   "outputs": [],
   "source": [
    "gm = flow.GaussianMixtureOp(name = \"GM\",\n",
    "                            channels = ['FSC-A', 'SSC-A'],\n",
    "                            scale = {'FSC-A' : 'log',\n",
    "                                     'SSC-A' : 'log'},\n",
    "                            num_components = 1,\n",
    "                            sigma = 2)\n",
    "gm.estimate(ex2)\n",
    "ex_gm = gm.apply(ex2)\n",
    "gm.default_view().plot(ex_gm, alpha = 0.02)"
   ]
  },
  {
   "cell_type": "code",
   "execution_count": null,
   "metadata": {},
   "outputs": [],
   "source": [
    "gm3 = flow.GaussianMixtureOp(name = \"GM3\",\n",
    "                            channels = ['FSC-A', 'Pacific Blue-A'],\n",
    "                            scale = {'FSC-A' : 'log',\n",
    "                                     'Pacific Blue-A' : 'log'},\n",
    "                            num_components = 1,\n",
    "                            sigma = 2)\n",
    "gm3.estimate(ex_gm)\n",
    "ex_gm2 = gm3.apply(ex_gm)\n",
    "gm3.default_view().plot(ex_gm2, alpha = 0.02)"
   ]
  },
  {
   "cell_type": "code",
   "execution_count": null,
   "metadata": {},
   "outputs": [],
   "source": [
    "df =ex_gm2.data"
   ]
  },
  {
   "cell_type": "markdown",
   "metadata": {},
   "source": [
    "take the stuff from cytoflow and changing it to datatframe"
   ]
  },
  {
   "cell_type": "markdown",
   "metadata": {},
   "source": [
    "# filter out events that don't fall within the gates"
   ]
  },
  {
   "cell_type": "code",
   "execution_count": null,
   "metadata": {},
   "outputs": [],
   "source": [
    "\n",
    "df = df[(df.GM_1==True) & (df.GM3_1==True) & (df.Range2D==True) & (df['FITC-A'] >0)]\n",
    "df"
   ]
  },
  {
   "cell_type": "code",
   "execution_count": null,
   "metadata": {},
   "outputs": [],
   "source": [
    "df.columns \n",
    "\n"
   ]
  },
  {
   "cell_type": "code",
   "execution_count": null,
   "metadata": {},
   "outputs": [],
   "source": [
    "data = df[['FITC-A','AHL','IPTG','Family']]\n",
    "data.insert(4,'Replicate',3)\n",
    "data.to_pickle('../compiled-data/se/lux/LuxSE_3.pkl')\n",
    "#uncomment these when you are ready to save replicates and compile replicate from other runs"
   ]
  },
  {
   "cell_type": "code",
   "execution_count": null,
   "metadata": {},
   "outputs": [],
   "source": [
    "# Subtract WT background from samples\n",
    "data = df[['FITC-A','AHL','IPTG','Family']]\n",
    "data['FITC-A'] = data['FITC-A'] - data[data.Family=='WT']['FITC-A'].median()\n",
    "data['FITC-A'] = data[data['FITC-A'] > 0]['FITC-A']\n",
    "data = data[data.Family=='LuxR']\n",
    "data.drop('Family',inplace=True,axis=1)"
   ]
  },
  {
   "cell_type": "code",
   "execution_count": null,
   "metadata": {},
   "outputs": [],
   "source": [
    "data['FITC-A'].min()"
   ]
  },
  {
   "cell_type": "code",
   "execution_count": null,
   "metadata": {},
   "outputs": [],
   "source": [
    "data"
   ]
  },
  {
   "cell_type": "markdown",
   "metadata": {},
   "source": [
    "# Plot median FITC-A"
   ]
  },
  {
   "cell_type": "markdown",
   "metadata": {},
   "source": [
    "use median or geometeric mean "
   ]
  },
  {
   "cell_type": "code",
   "execution_count": null,
   "metadata": {},
   "outputs": [],
   "source": [
    "mfi = data.groupby(['AHL','IPTG'])['FITC-A'].median().reset_index()\n",
    "\n",
    "f, ax = plt.subplots(figsize=(8,6))\n",
    "sns.pointplot(x='AHL',y='FITC-A',hue='IPTG',data=mfi)\n",
    "f.savefig('Lux.png',dpi=600)"
   ]
  },
  {
   "cell_type": "markdown",
   "metadata": {},
   "source": []
  },
  {
   "cell_type": "code",
   "execution_count": null,
   "metadata": {},
   "outputs": [],
   "source": []
  },
  {
   "cell_type": "code",
   "execution_count": null,
   "metadata": {},
   "outputs": [],
   "source": []
  },
  {
   "cell_type": "code",
   "execution_count": null,
   "metadata": {},
   "outputs": [],
   "source": []
  },
  {
   "cell_type": "markdown",
   "metadata": {},
   "source": [
    "# Plot heatmaps showing absolute and relative induction"
   ]
  },
  {
   "cell_type": "markdown",
   "metadata": {},
   "source": [
    "Raw signal "
   ]
  },
  {
   "cell_type": "code",
   "execution_count": null,
   "metadata": {},
   "outputs": [],
   "source": [
    "#LasMeans = Las.groupby(['C_ahl','C_iptg']).mean().reset_index()\n",
    "sns.set(style=\"white\")\n",
    "#sns.set_style('Talk')\n",
    "#LasTable = pd.pivot_table(LasMeans,values='FITC-A',index='C_iptg',columns='C_ahl')\n",
    "f, ax = plt.subplots(figsize=(8,6))\n",
    "#g = sns.heatmap(LasTable,vmin=0,vmax=100,xticklabels=[0,1e-10,1e-9,1e-7],yticklabels=[0,1e-3,1e-4,1e-5],ax=ax,square=True,cmap='Reds')\n",
    "\n",
    "\n",
    "\n",
    "#f.savefig('LasHeatmap.png',dpi=600)\n",
    "\n",
    "#mean['FITC-A']=mean['FITC-A']/mean['FITC-A'].max()*100\n",
    "\n",
    "piv = mfi.pivot_table(index='IPTG', columns='AHL', values='FITC-A')\n",
    "g = sns.heatmap(piv, annot=True, fmt=\".1f\",cmap='Blues')\n",
    "cbar = g.collections[0].colorbar\n",
    "#cbar.set_ticks([0, 25, 50, 75,100])\n",
    "#cbar.set_ticklabels(['0%', '25%', '50%', '75%', '100%'])\n",
    "ax.set_xlabel(r'[AHL] (M)')\n",
    "ax.set_ylabel(r'[IPTG] (M)')\n",
    "f.tight_layout()"
   ]
  },
  {
   "cell_type": "markdown",
   "metadata": {},
   "source": [
    "Normalized to highest signal "
   ]
  },
  {
   "cell_type": "code",
   "execution_count": null,
   "metadata": {},
   "outputs": [],
   "source": [
    "f, ax = plt.subplots(figsize=(8,6))\n",
    "# normalized\n",
    "norm = mfi.copy()\n",
    "norm['FITC-A']=norm['FITC-A']/norm['FITC-A'].max()*100\n",
    "\n",
    "piv = norm.pivot_table(index='IPTG', columns='AHL', values='FITC-A')\n",
    "g = sns.heatmap(piv, annot=True, fmt=\".1f\",cmap='Blues')\n",
    "cbar = g.collections[0].colorbar\n",
    "cbar.set_ticks([0, 25, 50, 75,100])\n",
    "cbar.set_ticklabels(['0%', '25%', '50%', '75%', '100%'])\n",
    "ax.set_xlabel(r'[AHL] (M)')\n",
    "ax.set_ylabel(r'[IPTG] (M)')\n",
    "f.tight_layout()"
   ]
  },
  {
   "cell_type": "markdown",
   "metadata": {},
   "source": [
    "# Calculate the on/off ratio and plot"
   ]
  },
  {
   "cell_type": "code",
   "execution_count": null,
   "metadata": {},
   "outputs": [],
   "source": [
    "\n",
    "R =[]\n",
    "for i in mfi.IPTG.unique():\n",
    "    tmp = mfi[mfi.IPTG ==i]['FITC-A'].max()/mfi[mfi.IPTG ==i]['FITC-A'].min()\n",
    "    R.append([i,tmp])\n",
    "\n"
   ]
  },
  {
   "cell_type": "code",
   "execution_count": null,
   "metadata": {},
   "outputs": [],
   "source": [
    "\n",
    "R = pd.DataFrame(R,columns=['IPTG','Induction Ratio'])\n",
    "R"
   ]
  },
  {
   "cell_type": "code",
   "execution_count": null,
   "metadata": {},
   "outputs": [],
   "source": [
    "f, ax  = plt.subplots()\n",
    "sns.barplot(x='IPTG',y='Induction Ratio',data=R,palette='Blues')"
   ]
  }
 ],
 "metadata": {
  "celltoolbar": "Raw Cell Format",
  "kernelspec": {
   "display_name": "Python [conda env:cytoflow]",
   "language": "python",
   "name": "conda-env-cytoflow-py"
  },
  "language_info": {
   "codemirror_mode": {
    "name": "ipython",
    "version": 3
   },
   "file_extension": ".py",
   "mimetype": "text/x-python",
   "name": "python",
   "nbconvert_exporter": "python",
   "pygments_lexer": "ipython3",
   "version": "3.6.13"
  }
 },
 "nbformat": 4,
 "nbformat_minor": 4
}
