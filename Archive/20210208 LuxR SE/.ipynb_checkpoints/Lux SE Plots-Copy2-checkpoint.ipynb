{
 "cells": [
  {
   "cell_type": "code",
   "execution_count": null,
   "metadata": {},
   "outputs": [],
   "source": [
    "import pandas as pd\n",
    "from matplotlib import pyplot as plt\n",
    "import seaborn as sns\n",
    "import matplotlib\n",
    "from scipy.stats.mstats import gmean\n",
    "import scipy.optimize as opt\n",
    "import matplotlib.ticker as ticker\n",
    "import matplotlib.gridspec as gridspec\n",
    "import numpy as np"
   ]
  },
  {
   "cell_type": "code",
   "execution_count": null,
   "metadata": {},
   "outputs": [],
   "source": [
    "data = pd.read_pickle('LuxSE.pkl')\n",
    "mean = data.groupby(['AHL','IPTG'])['FITC-A'].apply(gmean).reset_index()\n",
    "mean = pd.concat([mean,mean.apply(np.log10,axis=0,result_type='broadcast').iloc[:,0]],axis=1)\n",
    "mean.columns= ['AHL','IPTG','FITC-A','logAHL']\n",
    "mean = mean.astype({'logAHL': 'int32'})\n",
    "# normalized\n",
    "norm = mean.copy()\n",
    "norm['FITC-A']=norm['FITC-A']/norm['FITC-A'].max()*100\n",
    "piv = norm.pivot_table(index='IPTG', columns='logAHL', values='FITC-A')\n",
    "R =[]\n",
    "for i in mean.IPTG.unique():\n",
    "    tmp = mean[mean.IPTG ==i]['FITC-A'].max()/mean[mean.IPTG ==i]['FITC-A'].min()\n",
    "    R.append([i,tmp])\n",
    "R = pd.DataFrame(R,columns=['IPTG','Induction Ratio'])"
   ]
  },
  {
   "cell_type": "code",
   "execution_count": null,
   "metadata": {},
   "outputs": [],
   "source": []
  },
  {
   "cell_type": "code",
   "execution_count": null,
   "metadata": {},
   "outputs": [],
   "source": [
    "piv"
   ]
  },
  {
   "cell_type": "code",
   "execution_count": null,
   "metadata": {},
   "outputs": [],
   "source": [
    "mean"
   ]
  },
  {
   "cell_type": "markdown",
   "metadata": {},
   "source": []
  },
  {
   "cell_type": "code",
   "execution_count": null,
   "metadata": {},
   "outputs": [],
   "source": [
    "colors = ['#efedf5','#bcbddc','#756bb1']\n",
    "sns.set_context('talk')\n",
    "sns.set_style('white')\n",
    "f, axes = plt.subplots(ncols=2,figsize=(12,6))\n",
    "\n",
    "# fit Hill function\n",
    "lines = []  \n",
    "fits = pd.DataFrame(columns=['AHL','FITC-A','IPTG'])\n",
    "for i,iptg in enumerate(mean.IPTG.unique()):\n",
    "    tmp = mean[mean.IPTG==iptg]\n",
    "    def func(x, a, b):\n",
    "        return (tmp['FITC-A'].max() -tmp['FITC-A'].min()) / (1 + 10**(a * (np.log10(b)-np.log10(x)))) + tmp['FITC-A'].min()\n",
    "    (a_, b_), _ = opt.curve_fit(func, tmp.AHL, tmp['FITC-A'],p0=[1,1e-9],maxfev=10000000)\n",
    "    n = 1e6\n",
    "    x = np.linspace(tmp.AHL.min(), tmp.AHL.max(), int(n))\n",
    "    y_fit = func(x, a_, b_)\n",
    "    fits=fits.append(pd.DataFrame(np.concatenate([[x], [y_fit],[np.ones(len(x))*iptg]]).T,columns=['AHL','FITC-A','IPTG']),ignore_index=True)\n",
    "    lines += axes[0].plot(np.log10(x), y_fit, '-',color = colors[i],label='IPTG {:.1f} fit'.format(iptg*1e3))\n",
    "    lines += axes[0].plot(np.log10(tmp.AHL.values), tmp['FITC-A'].values, 'o',color = colors[i],label='IPTG {:.1f}'.format(iptg*1e3))\n",
    "\n",
    "labels = [l.get_label() for l in lines]\n",
    "g = sns.heatmap(piv, cmap='Purples',ax=axes[1])\n",
    "cbar = g.collections[0].colorbar\n",
    "cbar.set_ticks([0, 25, 50, 75,100])\n",
    "cbar.set_ticklabels(['0%', '25%', '50%', '75%', '100%'])\n",
    "axes[0].set_xlabel(r'AHL ($10^x$ M)')\n",
    "axes[0].set_ylabel(r'mNG Intensity (au)')\n",
    "\n",
    "axes[0].legend(labels,frameon=False)\n",
    "axes[1].set_xlabel(r'AHL ($10^x$ M)')\n",
    "axes[1].set_ylabel(r'IPTG (mM)')\n",
    "axes[1].set_yticklabels(['0','0.2','1'])\n",
    "#f.tight_layout()\n",
    "#sns.barplot(x='IPTG',y='Induction Ratio',data=R,palette='Blues',ax=axes[2])\n",
    "sns.despine()\n",
    "#axes[1].xaxis.set_major_formatter(ticker.LogFormatter())\n",
    "#axes[1].yaxis.set_major_formatter(ticker.ScalarFormatter())\n",
    "#axes[1].ticklabel_format(axis='both',style='scientific')\n",
    "f.tight_layout()\n",
    "f.savefig('TraSE.png',dpi=300)"
   ]
  },
  {
   "cell_type": "code",
   "execution_count": null,
   "metadata": {},
   "outputs": [],
   "source": [
    "sns.lineplot(x='AHL',y='FITC-A',hue='IPTG',markers='',data=fits,palette='Purples')"
   ]
  },
  {
   "cell_type": "code",
   "execution_count": null,
   "metadata": {},
   "outputs": [],
   "source": [
    "sns.set(style=\"white\", rc={\"axes.facecolor\": (0, 0, 0, 0)})\n",
    "sns.set_context('talk')\n",
    "for I in data.IPTG.unique():\n",
    "    tmpdf = data[data.IPTG==I][['AHL','FITC-A']]\n",
    "    print('IPTG=' +str(I))\n",
    "    # Initialize the FacetGrid object\n",
    "    pal = sns.cubehelix_palette(10, rot=-.25, light=.7)\n",
    "    g = sns.FacetGrid(tmpdf, row=\"AHL\", hue=\"AHL\", aspect=10, height=.75, palette='Purples')#\n",
    "    #g.set(xlim=(0, 20000))\n",
    "    # Draw the densities in a few steps\n",
    "    g.map(sns.kdeplot, \"FITC-A\", clip_on=True, shade=True, alpha=1, lw=1,log_scale=True,bw_adjust=3)\n",
    "    g.map(sns.kdeplot, \"FITC-A\", clip_on=True, color=\"w\", lw=2,log_scale=True,bw_adjust=3)\n",
    "    g.map(plt.axhline, y=0, lw=2, clip_on=False)\n",
    "\n",
    "\n",
    "    # Define and use a simple function to label the plot in axes coordinates\n",
    "    def label(x, color, label):\n",
    "        ax = plt.gca()\n",
    "        ax.text(0, .2, label, fontweight=\"bold\", color=color,\n",
    "                ha=\"left\", va=\"center\", transform=ax.transAxes)\n",
    "        #ax.set_xlim(1e2,2e5)\n",
    "    g.set(xlim=(1e3,1e5))\n",
    "\n",
    "    if I ==0.001:\n",
    "        g.map(label, \"FITC-A\")\n",
    "    else:\n",
    "        g.map(label, \"FITC-A\")\n",
    "        for ax in g.axes.flat:\n",
    "            ax.set_axis_off()\n",
    "        g.set(xticks=[])\n",
    "\n",
    "    # Set the subplots to overlap\n",
    "    g.fig.subplots_adjust(hspace=-.5)\n",
    "\n",
    "    # Remove axes details that don't play well with overlap\n",
    "    g.set_titles(\"\")\n",
    "    g.set(yticks=[])\n",
    "    g.despine(bottom=True, left=True)\n",
    "    #plt.show()\n",
    "    g.savefig('Ridge_Tra_IPTG {:.1e}.pdf'.format(I))\n"
   ]
  },
  {
   "cell_type": "code",
   "execution_count": null,
   "metadata": {},
   "outputs": [],
   "source": [
    "sns.set_context('talk')\n",
    "sns.set_style('white')\n",
    "f, axes = plt.subplots(nrows=2,figsize=(6,16))\n",
    "sns.pointplot(x='AHL',y='FITC-A',hue='IPTG',estimator=gmean,data=data,palette='Purples',ax=axes[0])\n",
    "g = sns.heatmap(piv, cmap='Purples',ax=axes[1])\n",
    "cbar = g.collections[0].colorbar\n",
    "cbar.set_ticks([0, 25, 50, 75,100])\n",
    "cbar.set_ticklabels(['0%', '25%', '50%', '75%', '100%'])\n",
    "axes[1].set_xlabel(r'[AHL] (M)')\n",
    "axes[1].set_ylabel(r'[IPTG] (M)')\n",
    "#f.tight_layout()\n",
    "#sns.barplot(x='IPTG',y='Induction Ratio',data=R,palette='Blues',ax=axes[2])\n",
    "sns.despine()\n",
    "#axes[1].xaxis.set_major_formatter(ticker.LogFormatter())\n",
    "#axes[1].yaxis.set_major_formatter(ticker.ScalarFormatter())\n",
    "#axes[1].ticklabel_format(axis='both',style='scientific')\n",
    "f.tight_layout()\n",
    "#f.savefig('LUXSE_Tall.png',dpi=300)"
   ]
  },
  {
   "cell_type": "code",
   "execution_count": null,
   "metadata": {},
   "outputs": [],
   "source": []
  },
  {
   "cell_type": "code",
   "execution_count": null,
   "metadata": {},
   "outputs": [],
   "source": []
  }
 ],
 "metadata": {
  "kernelspec": {
   "display_name": "Python 3",
   "language": "python",
   "name": "python3"
  },
  "language_info": {
   "codemirror_mode": {
    "name": "ipython",
    "version": 3
   },
   "file_extension": ".py",
   "mimetype": "text/x-python",
   "name": "python",
   "nbconvert_exporter": "python",
   "pygments_lexer": "ipython3",
   "version": "3.8.5"
  }
 },
 "nbformat": 4,
 "nbformat_minor": 2
}
